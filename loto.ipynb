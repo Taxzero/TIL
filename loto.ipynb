{
 "metadata": {
  "language_info": {
   "codemirror_mode": {
    "name": "ipython",
    "version": 3
   },
   "file_extension": ".py",
   "mimetype": "text/x-python",
   "name": "python",
   "nbconvert_exporter": "python",
   "pygments_lexer": "ipython3",
   "version": "3.8.5"
  },
  "orig_nbformat": 2,
  "kernelspec": {
   "name": "python385jvsc74a57bd0c81169c30fb96244cfba0db287a0d3fd5325268de070a7a6116eecd4596df902",
   "display_name": "Python 3.8.5 64-bit ('base': conda)"
  }
 },
 "nbformat": 4,
 "nbformat_minor": 2,
 "cells": [
  {
   "source": [
    "# 로또 만들기"
   ],
   "cell_type": "markdown",
   "metadata": {}
  },
  {
   "source": [
    "# 1~45중 6개 랜덤으로 뽑아서 출력하기\n",
    "\n",
    "import random\n",
    "a = random.sample(range(1,46),6)\n",
    "a.sort()\n",
    "print(a)\n",
    "\n",
    "#당청번호, 보너스 번호 입력하기\n",
    "\n",
    "lotto = list(map(int,input(\"당청번호\").split()))\n",
    "lotto_bonus = list(map(int,input(\"당청번호\").split()))\n",
    "print(lotto)\n",
    "print(lotto_bonus)\n",
    "\n",
    "# 당첨번호 비교하기\n",
    "\n",
    "point = 0\n",
    "for i in range(0,len(a)):\n",
    "    for j in range(0,len(lotto)):\n",
    "        if a[i] == lotto[j]:\n",
    "            point += 1\n",
    "\n",
    "point2 = 0\n",
    "for i in range(0,len(a)):\n",
    "    if a[i] == lotto_bonus:\n",
    "        point2 = 1\n",
    "print(point,point2)\n",
    "\n",
    "# 당첨 번호 조건\n",
    "\n",
    "if point == 3:\n",
    "    print('5등')\n",
    "elif point == 4:\n",
    "    print('4등')\n",
    "elif point == 5 and (point2 == 0):\n",
    "    print('3등')\n",
    "elif point == 5 and (point2 == 1):\n",
    "    print('2등')\n",
    "elif point == 6:\n",
    "    print('1등')\n",
    "else: print('꽝')"
   ],
   "cell_type": "code",
   "metadata": {},
   "execution_count": 7,
   "outputs": [
    {
     "output_type": "stream",
     "name": "stdout",
     "text": [
      "[1, 10, 16, 26, 37, 38]\n",
      "[1, 10, 16, 26, 37, 40]\n",
      "[38]\n",
      "5 0\n",
      "3등\n"
     ]
    }
   ]
  },
  {
   "cell_type": "code",
   "execution_count": 23,
   "metadata": {},
   "outputs": [
    {
     "output_type": "stream",
     "name": "stdout",
     "text": [
      "------------------------------------------------\n",
      "----------------LOTTO 번호 추천!-----------------\n",
      "------------------------------------------------\n",
      "[7, 8, 10, 34, 38, 43]\n",
      "[8, 16, 20, 37, 44, 45]\n",
      "[11, 28, 30, 33, 42, 43]\n",
      "[1, 3, 14, 24, 29, 40]\n",
      "[17, 20, 32, 37, 40, 45]\n",
      "[14, 23, 33, 34, 38, 41]\n",
      "[6, 10, 34, 35, 38, 39]\n",
      "[4, 19, 24, 28, 43, 45]\n",
      "[7, 8, 11, 14, 15, 34]\n",
      "[20, 23, 30, 31, 36, 42]\n",
      "------------------------------------------------\n",
      "------------LOTTO 번호 생성 완료!----------------\n"
     ]
    }
   ],
   "source": [
    "import random\n",
    "\n",
    "print('------------------------------------------------')\n",
    "print('----------------LOTTO 번호 추천!-----------------')\n",
    "\n",
    "num = input(\"세트 수 : 숫자만 입력 \")\n",
    "\n",
    "print('------------------------------------------------')\n",
    "\n",
    "for i in range(0, int(num)):\n",
    "    lotto = random.sample(range(1, 46), 6)\n",
    "    lotto.sort()\n",
    "    print(lotto)\n",
    "\n",
    "print('------------------------------------------------')\n",
    "print('------------LOTTO 번호 생성 완료!----------------')"
   ]
  },
  {
   "cell_type": "code",
   "execution_count": 24,
   "metadata": {},
   "outputs": [],
   "source": [
    "from tkinter import *"
   ]
  },
  {
   "cell_type": "code",
   "execution_count": 26,
   "metadata": {},
   "outputs": [],
   "source": [
    "root = Tk()\n",
    "root.mainloop()"
   ]
  },
  {
   "cell_type": "code",
   "execution_count": null,
   "metadata": {},
   "outputs": [],
   "source": []
  }
 ]
}